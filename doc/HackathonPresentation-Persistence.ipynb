{
 "cells": [
  {
   "cell_type": "markdown",
   "metadata": {},
   "source": [
    "# Team 10 -- Structure Analysis -- FAT (Features from Algebraic Topology)\n",
    "\n",
    "_Shaun Harker_, _Assistant Research Professor, Mathematics Department, Rutgers University_.\n",
    "\n",
    "# Goals \n",
    "\n",
    "The goal of the structures subproject for Team 9/10 is to create novel features measuring protein structure. The **FAT** approach is to create **F**eatures based on **A**lgebraic **T**opology. Once such features are designed, statistical methods can be used to determine if they are useful in explaining variance between predictions and experimental data regarding the stability of protein designs and protein-protein interfacing.\n",
    "\n",
    "Specifically, this subproject had the following goals:\n",
    "\n",
    "* __Develop__ a tool to compute persistence diagrams for PDB data\n",
    "* __Deploy__ the tool to both an HPC environment and Jupyter notebooks\n",
    "* __Compute__ persistence diagrams for the data under investigation in the TACC Maverick system provided by organizers\n",
    "* __Analyze__ the computed persistence diagrams and determine if they provide a useful feature for stability/binding prediction\n",
    "\n",
    "# Outcomes \n",
    "\n",
    "The following outcomes were realized:\n",
    "\n",
    "* __Software__ for the analysis of protein structure data\n",
    "* __Computational results__ consisting of topological characterizations of over +10K protein structures\n",
    "* __Plans__ for follow up work and collaborations with fellow event participants\n",
    "* __Training__: interaction with varied experts with knowledge of experimental biology, machine learning, high performance computing, and computational chemistry led to a much improved understanding of the current state of the art data analyses, experimental techniques, and computational methodologies.  \n"
   ]
  },
  {
   "cell_type": "markdown",
   "metadata": {},
   "source": [
    "## Development\n",
    "\n",
    "Software was written in C++ (for speed), given Python bindings (for usability), and deployed on Github (for availability):\n",
    "\n",
    "<https://github.com/shaunharker/SD2E-Hackathon-Team10-ProteinPersistence>\n",
    "\n"
   ]
  },
  {
   "cell_type": "markdown",
   "metadata": {},
   "source": [
    "## Deployment\n",
    "\n",
    "The software was tested in three environments:\n",
    "    \n",
    "    * Local Jupyter Notebook\n",
    "    * TACC Jupyter Notebook\n",
    "    * TACC Maverick HPC cluster\n",
    "\n",
    "Testing was successful for the local Jupyter Notebook environment and on the TACC Maverick HPC cluster. Testing was not successful TACC Jupyter Notebook since the container it is based on would require a large software stack to be installed manually (without a package manager) and without the assistance of module systems.\n"
   ]
  },
  {
   "cell_type": "markdown",
   "metadata": {},
   "source": [
    "## Computation\n",
    "\n",
    "### HPC Computation\n",
    "\n",
    "* Analyzed 13180 docked protein configurations (4.3GB of PDB data)\n",
    "* Produced 5.8GB of persistence diagram data.\n",
    "* Computations took approximately 1 second per configuration.\n",
    "* Using 20 cores on TACC Maverick, the computation took under 15 minutes (!). "
   ]
  },
  {
   "cell_type": "markdown",
   "metadata": {},
   "source": [
    "### Example Computation\n",
    "\n",
    "We provide an interface to persistent homology via a one line command:\n",
    "\n",
    "```\n",
    "diagrams = Compute_PDB_PersistenceDiagrams('example.pdb')\n",
    "```\n",
    "\n",
    "Some of the code below can be integrated into the package so it does not need to appear in a Jupyter notebook; for present purposes it is more instructive to include it to explain the pipeline:\n",
    "\n",
    "0. Set up python environment\n",
    "1. Loads PDB file with BioPython package\n",
    "2. Create list of (x,y,z,r) tuples giving atomic centers and van der Waals radii \n",
    "3. Calls the _ProteinPersistence_ package, which uses CGAL to create a weighted alpha complex (with weights given by van der Waals radii), and PHAT to compute persistence diagrams. \n",
    "4. Display results"
   ]
  },
  {
   "cell_type": "code",
   "execution_count": 1,
   "metadata": {
    "collapsed": true
   },
   "outputs": [],
   "source": [
    "# Set up environment\n",
    "%matplotlib inline\n",
    "import matplotlib.pyplot as plt\n",
    "from Bio.PDB import *\n",
    "import re\n",
    "import ProteinPersistence"
   ]
  },
  {
   "cell_type": "code",
   "execution_count": 2,
   "metadata": {
    "collapsed": true
   },
   "outputs": [],
   "source": [
    "# Load PDB structure and assign van der Waals radii to atoms\n",
    "def Compute_PDB_PersistenceDiagrams(filename):\n",
    "    # Load an example PDB file using BioPython\n",
    "    p = PDBParser()\n",
    "    structure = p.get_structure('',filename)\n",
    "    # Create a list of entries [x, y, z, r] representing (x,y,z) coordinates of each atom\n",
    "    # and van der Waals radius of that atom\n",
    "    def atom_shortname(s):\n",
    "        return s[re.search(\"[A-Z]\", s).start()]\n",
    "\n",
    "    def vanderWaalsRadius(atom_name):\n",
    "        \"\"\" \n",
    "        Return van der Waals radius associated with 'atom_name'\n",
    "        \"\"\"\n",
    "        return { \"H\" : 1.2, \"C\" : 1.7 , \"N\" : 1.55, \"O\" : 1.52, \"S\" : 1.8}[atom_name];\n",
    "    xyzr_list = [ list(atom.get_coord()) + [vanderWaalsRadius(atom_shortname(atom.get_name()))] \\\n",
    "                  for atom in structure.get_atoms() ]\n",
    "    # Compute \n",
    "    return ProteinPersistence.pdb2persistence(xyzr_list)"
   ]
  },
  {
   "cell_type": "code",
   "execution_count": 3,
   "metadata": {
    "collapsed": false
   },
   "outputs": [],
   "source": [
    "# Code for displaying persistence diagrams\n",
    "def DisplayDiagrams(diagrams):\n",
    "    fig = plt.figure(figsize=(20, 6))\n",
    "    for d in [0,1,2]:\n",
    "        x_vals = [ item[0] for item in diagrams[d]]\n",
    "        y_vals = [ item[1] for item in diagrams[d]]\n",
    "        ax = fig.add_subplot(1, 3, d+1)\n",
    "        plt.scatter(x_vals, y_vals)"
   ]
  },
  {
   "cell_type": "code",
   "execution_count": 4,
   "metadata": {
    "collapsed": false
   },
   "outputs": [],
   "source": [
    "# Compute Persistence Diagrams via CGAL and PHAT\n",
    "diagrams = Compute_PDB_PersistenceDiagrams('example.pdb')"
   ]
  },
  {
   "cell_type": "code",
   "execution_count": 5,
   "metadata": {
    "collapsed": false
   },
   "outputs": [
    {
     "data": {
      "image/png": "[encoded data removed]",
      "text/plain": [
       "<matplotlib.figure.Figure at 0x10bb28750>"
      ]
     },
     "metadata": {},
     "output_type": "display_data"
    }
   ],
   "source": [
    "# Display persistence diagrams computed from PDB file. \n",
    "DisplayDiagrams(diagrams)"
   ]
  },
  {
   "cell_type": "markdown",
   "metadata": {
    "collapsed": true
   },
   "source": [
    "# Analysis\n",
    "\n",
    "* The original goal was to produce numeric feature columns based on the output of persistence that could be used in a statistical approach (e.g. the `BayesDB` approach pursued by Team 10).\n",
    "* However, inspection of the results revealed that persistent diagrams contain a significant amount of topological data.\n",
    "* In order to use this in a statistical approach this entails further analysis to reduce the dimensionality of the persistent homology diagrams.\n",
    "* Two viable approaches which may be attempted in follow up work are\n",
    "  * The _Stable Vector Representation_ approach of  \n",
    "  > Adams, Henry, et al. \"Persistence images: a stable vector representation of persistent homology.\" Journal of Machine Learning Research 18.8 (2017): 1-35.\n",
    "  * The _Diffusion Coordinates_ approach of\n",
    "  > Coifman, Ronald R., et al. \"Geometric diffusions as a tool for harmonic analysis and structure definition of data: Diffusion maps.\" Proceedings of the National Academy of Sciences of the United States of America 102.21 (2005): 7426-7431.\n"
   ]
  },
  {
   "cell_type": "markdown",
   "metadata": {},
   "source": [
    "# Planned Collaborations and Follow-up Work\n",
    "\n",
    "* Further data characterizing protein structure of the form of electron density fields is possible to compute via _Density Functional Theory_. This data provides an alternative approach to construct topological complexes characterizing structure which may be more useful than ball-and-stick model derived topological characterizations. Joshua Schrier (Haverford) is an expert at computing such electron density fields and can provide voxel data corresponding to PDB files. This allows for several follow-up projects:\n",
    "  * Compare persistence diagrams computed based on weighted alpha-shape (ball-and-stick with van der Waals radius) approach with persistence diagrams of filtrations of cubical complex based on superlevel sets of electron density voxel data.\n",
    "  * Apply Stable Vector Representation and Diffusion Coordinates to persistence diagrams from electron density data (i.e. replicate analysis proposed above for this data as well)  \n",
    "* Stability and binding affinity may not be equally sensitive to topological features irrespective of their spatial position.\n",
    "  * For binding affinity it seems reasonable to expect that topological features on or near the predicted interface are more predictive.\n",
    "  * Persistent homology hides some information that may be available in a analysis called _Connection Matrices_, which can give information information about how topological features are spatially interrelated. In particular, algorithms capable of efficiently computing connection matrices and providing geometric information about the topological features discovered and their connections has recently been developed in the cubical case. This could be applied to electron density voxel data. \n",
    "\n"
   ]
  },
  {
   "cell_type": "code",
   "execution_count": null,
   "metadata": {
    "collapsed": true
   },
   "outputs": [],
   "source": []
  }
 ],
 "metadata": {
  "kernelspec": {
   "display_name": "Python 2",
   "language": "python",
   "name": "python2"
  },
  "language_info": {
   "codemirror_mode": {
    "name": "ipython",
    "version": 2
   },
   "file_extension": ".py",
   "mimetype": "text/x-python",
   "name": "python",
   "nbconvert_exporter": "python",
   "pygments_lexer": "ipython2",
   "version": "2.7.13"
  }
 },
 "nbformat": 4,
 "nbformat_minor": 2
}
